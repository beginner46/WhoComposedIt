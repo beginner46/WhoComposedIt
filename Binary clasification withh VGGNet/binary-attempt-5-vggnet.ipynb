{
 "cells": [
  {
   "cell_type": "code",
   "execution_count": 1,
   "metadata": {
    "_cell_guid": "b1076dfc-b9ad-4769-8c92-a6c4dae69d19",
    "_uuid": "8f2839f25d086af736a60e9eeb907d3b93b6e0e5"
   },
   "outputs": [
    {
     "name": "stderr",
     "output_type": "stream",
     "text": [
      "Using TensorFlow backend.\n"
     ]
    }
   ],
   "source": [
    "import numpy as np\n",
    "from PIL import Image\n",
    "from matplotlib import pyplot as plt\n",
    "import os\n",
    "from sklearn.metrics import confusion_matrix\n",
    "import seaborn as sn\n",
    "from keras.models import Sequential\n",
    "from keras.layers import Dense, MaxPooling2D, MaxPool2D, Conv2D, Flatten, Dropout, SpatialDropout1D, SimpleRNN, GRU, LSTM\n",
    "from keras.utils import to_categorical\n",
    "from keras.callbacks import ModelCheckpoint, EarlyStopping\n",
    "from keras.optimizers import Adam\n",
    "import random\n",
    "import pandas as pd\n",
    "import time\n",
    "import pickle\n",
    "import copy"
   ]
  },
  {
   "cell_type": "markdown",
   "execution_count": null,
   "metadata": {
    "_cell_guid": "79c7e3d0-c299-4dcb-8224-4455121ee9b0",
    "_uuid": "d629ff2d2480ee46fbb7e2d37f6b5fab8052498a",
    "collapsed": true
   },
   "source": [
    "# Binary Classification (Bach+Mozart)"
   ]
  },
  {
   "cell_type": "markdown",
   "execution_count": null,
   "metadata": {},
   "source": [
    "# Reading and creating the Datasets"
   ]
  },
  {
   "cell_type": "code",
   "execution_count": 2,
   "metadata": {},
   "outputs": [],
   "source": [
    "#reading the training rolls and training labels\n",
    "training_rolls = []\n",
    "training_labels = []\n",
    "for i in range(801):\n",
    "    filename1 = '/kaggle/input/proll-npy/train_rolls/train_rolls/train_roll' + str(i) + '.npy'\n",
    "    filename2 = '/kaggle/input/proll-npy/train_labels/train_labels/train_label' + str(i) + '.npy'\n",
    "    temp1 = np.load(filename1)\n",
    "    temp2 = np.load(filename2)\n",
    "    training_rolls.append(temp1)\n",
    "    training_labels.append(temp2)"
   ]
  },
  {
   "cell_type": "code",
   "execution_count": 3,
   "metadata": {},
   "outputs": [],
   "source": [
    "#reading the test rolls and test labels\n",
    "test_rolls = []\n",
    "test_labels = []\n",
    "for i in range(201):\n",
    "    filename1 = '/kaggle/input/proll-npy/test_rolls/test_rolls/test_roll' + str(i) + '.npy'\n",
    "    filename2 = '/kaggle/input/proll-npy/test_labels/test_labels/test_label' + str(i) + '.npy'\n",
    "    temp1 = np.load(filename1)\n",
    "    temp2 = np.load(filename2)\n",
    "    test_rolls.append(temp1)\n",
    "    test_labels.append(temp2)"
   ]
  },
  {
   "cell_type": "code",
   "execution_count": 4,
   "metadata": {},
   "outputs": [],
   "source": [
    "test_rolls = np.array(test_rolls)\n",
    "test_labels = np.array(test_labels)\n",
    "training_rolls = np.array(training_rolls)\n",
    "training_labels = np.array(training_labels)"
   ]
  },
  {
   "cell_type": "code",
   "execution_count": 5,
   "metadata": {},
   "outputs": [],
   "source": [
    "num_classes = 2\n",
    "\n",
    "piano_roll_shape = training_rolls[0].shape\n",
    "piano_roll_size = piano_roll_shape[0]*piano_roll_shape[1]"
   ]
  },
  {
   "cell_type": "code",
   "execution_count": 6,
   "metadata": {},
   "outputs": [],
   "source": [
    "\n",
    "training_labels = to_categorical(training_labels, num_classes)\n",
    "test_labels = to_categorical(test_labels, num_classes)"
   ]
  },
  {
   "cell_type": "code",
   "execution_count": 7,
   "metadata": {},
   "outputs": [],
   "source": [
    "conv_training_data = training_rolls.reshape(801, piano_roll_shape[0], piano_roll_shape[1], 1)\n",
    "conv_test_data = test_rolls.reshape(201, piano_roll_shape[0], piano_roll_shape[1], 1)"
   ]
  },
  {
   "cell_type": "code",
   "execution_count": 8,
   "metadata": {},
   "outputs": [],
   "source": [
    "test_rolls = None\n",
    "training_rolls = None"
   ]
  },
  {
   "cell_type": "code",
   "execution_count": 9,
   "metadata": {},
   "outputs": [],
   "source": [
    "model = Sequential()\n",
    "model.add(Conv2D(input_shape=(piano_roll_shape[0],piano_roll_shape[1],1),filters=64,kernel_size=(3,3),padding=\"same\", activation=\"relu\"))\n",
    "model.add(Conv2D(filters=64,kernel_size=(3,3),padding=\"same\", activation=\"relu\"))\n",
    "model.add(MaxPool2D(pool_size=(2,2),strides=(2,2)))\n",
    "model.add(Conv2D(filters=128, kernel_size=(3,3), padding=\"same\", activation=\"relu\"))\n",
    "model.add(Conv2D(filters=128, kernel_size=(3,3), padding=\"same\", activation=\"relu\"))\n",
    "model.add(MaxPool2D(pool_size=(2,2),strides=(2,2)))\n",
    "model.add(Conv2D(filters=256, kernel_size=(3,3), padding=\"same\", activation=\"relu\"))\n",
    "model.add(Conv2D(filters=256, kernel_size=(3,3), padding=\"same\", activation=\"relu\"))\n",
    "model.add(Conv2D(filters=256, kernel_size=(3,3), padding=\"same\", activation=\"relu\"))\n",
    "model.add(MaxPool2D(pool_size=(2,2),strides=(2,2)))\n",
    "model.add(Conv2D(filters=512, kernel_size=(3,3), padding=\"same\", activation=\"relu\"))\n",
    "model.add(Conv2D(filters=512, kernel_size=(3,3), padding=\"same\", activation=\"relu\"))\n",
    "model.add(Conv2D(filters=512, kernel_size=(3,3), padding=\"same\", activation=\"relu\"))\n",
    "model.add(MaxPool2D(pool_size=(2,2),strides=(2,2)))\n",
    "model.add(Conv2D(filters=512, kernel_size=(3,3), padding=\"same\", activation=\"relu\"))\n",
    "model.add(Conv2D(filters=512, kernel_size=(3,3), padding=\"same\", activation=\"relu\"))\n",
    "model.add(Conv2D(filters=512, kernel_size=(3,3), padding=\"same\", activation=\"relu\"))\n",
    "model.add(MaxPool2D(pool_size=(2,2),strides=(2,2)))\n",
    "model.add(Flatten())\n",
    "model.add(Dense(units=4096,activation=\"relu\"))\n",
    "model.add(Dense(units=4096,activation=\"relu\"))\n",
    "model.add(Dense(num_classes, activation='softmax'))"
   ]
  },
  {
   "cell_type": "code",
   "execution_count": 10,
   "metadata": {},
   "outputs": [
    {
     "name": "stdout",
     "output_type": "stream",
     "text": [
      "Model: \"sequential_1\"\n",
      "_________________________________________________________________\n",
      "Layer (type)                 Output Shape              Param #   \n",
      "=================================================================\n",
      "conv2d_1 (Conv2D)            (None, 71, 700, 64)       640       \n",
      "_________________________________________________________________\n",
      "conv2d_2 (Conv2D)            (None, 71, 700, 64)       36928     \n",
      "_________________________________________________________________\n",
      "max_pooling2d_1 (MaxPooling2 (None, 35, 350, 64)       0         \n",
      "_________________________________________________________________\n",
      "conv2d_3 (Conv2D)            (None, 35, 350, 128)      73856     \n",
      "_________________________________________________________________\n",
      "conv2d_4 (Conv2D)            (None, 35, 350, 128)      147584    \n",
      "_________________________________________________________________\n",
      "max_pooling2d_2 (MaxPooling2 (None, 17, 175, 128)      0         \n",
      "_________________________________________________________________\n",
      "conv2d_5 (Conv2D)            (None, 17, 175, 256)      295168    \n",
      "_________________________________________________________________\n",
      "conv2d_6 (Conv2D)            (None, 17, 175, 256)      590080    \n",
      "_________________________________________________________________\n",
      "conv2d_7 (Conv2D)            (None, 17, 175, 256)      590080    \n",
      "_________________________________________________________________\n",
      "max_pooling2d_3 (MaxPooling2 (None, 8, 87, 256)        0         \n",
      "_________________________________________________________________\n",
      "conv2d_8 (Conv2D)            (None, 8, 87, 512)        1180160   \n",
      "_________________________________________________________________\n",
      "conv2d_9 (Conv2D)            (None, 8, 87, 512)        2359808   \n",
      "_________________________________________________________________\n",
      "conv2d_10 (Conv2D)           (None, 8, 87, 512)        2359808   \n",
      "_________________________________________________________________\n",
      "max_pooling2d_4 (MaxPooling2 (None, 4, 43, 512)        0         \n",
      "_________________________________________________________________\n",
      "conv2d_11 (Conv2D)           (None, 4, 43, 512)        2359808   \n",
      "_________________________________________________________________\n",
      "conv2d_12 (Conv2D)           (None, 4, 43, 512)        2359808   \n",
      "_________________________________________________________________\n",
      "conv2d_13 (Conv2D)           (None, 4, 43, 512)        2359808   \n",
      "_________________________________________________________________\n",
      "max_pooling2d_5 (MaxPooling2 (None, 2, 21, 512)        0         \n",
      "_________________________________________________________________\n",
      "flatten_1 (Flatten)          (None, 21504)             0         \n",
      "_________________________________________________________________\n",
      "dense_1 (Dense)              (None, 4096)              88084480  \n",
      "_________________________________________________________________\n",
      "dense_2 (Dense)              (None, 4096)              16781312  \n",
      "_________________________________________________________________\n",
      "dense_3 (Dense)              (None, 2)                 8194      \n",
      "=================================================================\n",
      "Total params: 119,587,522\n",
      "Trainable params: 119,587,522\n",
      "Non-trainable params: 0\n",
      "_________________________________________________________________\n"
     ]
    }
   ],
   "source": [
    "opt = Adam(lr=0.001)\n",
    "model.compile(optimizer=opt, loss='binary_crossentropy', metrics=['accuracy'])\n",
    "model.summary()"
   ]
  },
  {
   "cell_type": "code",
   "execution_count": 11,
   "metadata": {},
   "outputs": [
    {
     "name": "stdout",
     "output_type": "stream",
     "text": [
      "Train on 720 samples, validate on 81 samples\n",
      "Epoch 1/30\n",
      "720/720 [==============================] - 673s 935ms/step - loss: 2.0825 - accuracy: 0.5278 - val_loss: 0.6811 - val_accuracy: 0.5926\n",
      "Epoch 2/30\n"
     ]
    },
    {
     "name": "stderr",
     "output_type": "stream",
     "text": [
      "/opt/conda/lib/python3.7/site-packages/keras/callbacks/callbacks.py:707: RuntimeWarning: Can save best model only with val_acc available, skipping.\n",
      "  'skipping.' % (self.monitor), RuntimeWarning)\n",
      "/opt/conda/lib/python3.7/site-packages/keras/callbacks/callbacks.py:846: RuntimeWarning: Early stopping conditioned on metric `val_acc` which is not available. Available metrics are: val_loss,val_accuracy,loss,accuracy\n",
      "  (self.monitor, ','.join(list(logs.keys()))), RuntimeWarning\n"
     ]
    },
    {
     "name": "stdout",
     "output_type": "stream",
     "text": [
      "720/720 [==============================] - 681s 945ms/step - loss: 0.6985 - accuracy: 0.4708 - val_loss: 0.6942 - val_accuracy: 0.4074\n",
      "Epoch 3/30\n",
      "720/720 [==============================] - 678s 941ms/step - loss: 0.6936 - accuracy: 0.5264 - val_loss: 0.7059 - val_accuracy: 0.4074\n",
      "Epoch 4/30\n",
      "720/720 [==============================] - 689s 957ms/step - loss: 0.6919 - accuracy: 0.5264 - val_loss: 0.7008 - val_accuracy: 0.4074\n",
      "Epoch 5/30\n",
      "720/720 [==============================] - 671s 932ms/step - loss: 0.6828 - accuracy: 0.5264 - val_loss: 0.6758 - val_accuracy: 0.6420\n",
      "Epoch 6/30\n",
      "720/720 [==============================] - 689s 957ms/step - loss: 0.6749 - accuracy: 0.5208 - val_loss: 0.6760 - val_accuracy: 0.6296\n",
      "Epoch 7/30\n",
      "720/720 [==============================] - 677s 941ms/step - loss: 0.6813 - accuracy: 0.5958 - val_loss: 0.6695 - val_accuracy: 0.6543\n",
      "Epoch 8/30\n",
      "720/720 [==============================] - 665s 923ms/step - loss: 0.6742 - accuracy: 0.5806 - val_loss: 0.6414 - val_accuracy: 0.6420\n",
      "Epoch 9/30\n",
      "720/720 [==============================] - 664s 923ms/step - loss: 0.6583 - accuracy: 0.6000 - val_loss: 0.6569 - val_accuracy: 0.5926\n",
      "Epoch 10/30\n",
      "720/720 [==============================] - 675s 938ms/step - loss: 0.6214 - accuracy: 0.6597 - val_loss: 0.6086 - val_accuracy: 0.6296\n",
      "Epoch 11/30\n",
      "720/720 [==============================] - 681s 946ms/step - loss: 0.6047 - accuracy: 0.6889 - val_loss: 0.6120 - val_accuracy: 0.6790\n",
      "Epoch 12/30\n",
      "720/720 [==============================] - 678s 941ms/step - loss: 0.6296 - accuracy: 0.6500 - val_loss: 0.6527 - val_accuracy: 0.6049\n",
      "Epoch 13/30\n",
      "720/720 [==============================] - 667s 927ms/step - loss: 0.6015 - accuracy: 0.6778 - val_loss: 0.6126 - val_accuracy: 0.6790\n",
      "Epoch 14/30\n",
      "720/720 [==============================] - 668s 928ms/step - loss: 0.6046 - accuracy: 0.6875 - val_loss: 0.6508 - val_accuracy: 0.6049\n",
      "Epoch 15/30\n",
      "720/720 [==============================] - 673s 934ms/step - loss: 0.5704 - accuracy: 0.6986 - val_loss: 0.6046 - val_accuracy: 0.6667\n",
      "Epoch 16/30\n",
      "720/720 [==============================] - 678s 942ms/step - loss: 0.5606 - accuracy: 0.7097 - val_loss: 0.6292 - val_accuracy: 0.6173\n",
      "Epoch 17/30\n",
      "720/720 [==============================] - 676s 939ms/step - loss: 0.5541 - accuracy: 0.7028 - val_loss: 0.5665 - val_accuracy: 0.7407\n",
      "Epoch 18/30\n",
      "720/720 [==============================] - 674s 937ms/step - loss: 0.5174 - accuracy: 0.7472 - val_loss: 0.7297 - val_accuracy: 0.6296\n",
      "Epoch 19/30\n",
      "720/720 [==============================] - 673s 935ms/step - loss: 0.5969 - accuracy: 0.6917 - val_loss: 0.6295 - val_accuracy: 0.5926\n",
      "Epoch 20/30\n",
      "720/720 [==============================] - 675s 938ms/step - loss: 0.5816 - accuracy: 0.6944 - val_loss: 0.6425 - val_accuracy: 0.6543\n",
      "Epoch 21/30\n",
      "720/720 [==============================] - 690s 958ms/step - loss: 0.5478 - accuracy: 0.7306 - val_loss: 0.8444 - val_accuracy: 0.5926\n",
      "Epoch 22/30\n",
      "720/720 [==============================] - 688s 956ms/step - loss: 0.4991 - accuracy: 0.7458 - val_loss: 0.5452 - val_accuracy: 0.7037\n",
      "Epoch 23/30\n",
      "720/720 [==============================] - 685s 951ms/step - loss: 0.4398 - accuracy: 0.7903 - val_loss: 0.5835 - val_accuracy: 0.6667\n",
      "Epoch 24/30\n",
      "720/720 [==============================] - 696s 966ms/step - loss: 0.4364 - accuracy: 0.7972 - val_loss: 0.6859 - val_accuracy: 0.6790\n",
      "Epoch 25/30\n",
      "720/720 [==============================] - 691s 960ms/step - loss: 0.4966 - accuracy: 0.7694 - val_loss: 0.6046 - val_accuracy: 0.6667\n",
      "Epoch 26/30\n",
      "720/720 [==============================] - 687s 954ms/step - loss: 0.5176 - accuracy: 0.7417 - val_loss: 0.8149 - val_accuracy: 0.6049\n",
      "Epoch 27/30\n",
      "720/720 [==============================] - 681s 946ms/step - loss: 0.4316 - accuracy: 0.7931 - val_loss: 0.6060 - val_accuracy: 0.7037\n",
      "Epoch 28/30\n",
      "720/720 [==============================] - 682s 947ms/step - loss: 0.3443 - accuracy: 0.8431 - val_loss: 1.0405 - val_accuracy: 0.6543\n",
      "Epoch 29/30\n",
      "720/720 [==============================] - 684s 950ms/step - loss: 0.4011 - accuracy: 0.8375 - val_loss: 0.6126 - val_accuracy: 0.6914\n",
      "Epoch 30/30\n",
      "720/720 [==============================] - 682s 948ms/step - loss: 0.2999 - accuracy: 0.8653 - val_loss: 1.0569 - val_accuracy: 0.5556\n"
     ]
    }
   ],
   "source": [
    "checkpoint = ModelCheckpoint(\"vgg16_1.h5\", monitor='val_acc', verbose=1, save_best_only=True, save_weights_only=False, mode='auto', period=1)\n",
    "early = EarlyStopping(monitor='val_acc', min_delta=0, patience=7, verbose=1, mode='auto')\n",
    "hist = model.fit(conv_training_data, training_labels, batch_size=64, epochs=30, verbose=True, validation_split=.1,callbacks=[checkpoint,early])"
   ]
  },
  {
   "cell_type": "code",
   "execution_count": 12,
   "metadata": {},
   "outputs": [
    {
     "name": "stdout",
     "output_type": "stream",
     "text": [
      "201/201 [==============================] - 50s 250ms/step\n"
     ]
    },
    {
     "ename": "NameError",
     "evalue": "name 'history' is not defined",
     "output_type": "error",
     "traceback": [
      "\u001b[0;31m---------------------------------------------------------------------------\u001b[0m",
      "\u001b[0;31mNameError\u001b[0m                                 Traceback (most recent call last)",
      "\u001b[0;32m<ipython-input-12-1f7c963a2815>\u001b[0m in \u001b[0;36m<module>\u001b[0;34m\u001b[0m\n\u001b[1;32m      1\u001b[0m \u001b[0mloss\u001b[0m\u001b[0;34m,\u001b[0m \u001b[0maccuracy\u001b[0m  \u001b[0;34m=\u001b[0m \u001b[0mmodel\u001b[0m\u001b[0;34m.\u001b[0m\u001b[0mevaluate\u001b[0m\u001b[0;34m(\u001b[0m\u001b[0mconv_test_data\u001b[0m\u001b[0;34m,\u001b[0m \u001b[0mtest_labels\u001b[0m\u001b[0;34m,\u001b[0m \u001b[0mverbose\u001b[0m\u001b[0;34m=\u001b[0m\u001b[0;32mTrue\u001b[0m\u001b[0;34m)\u001b[0m\u001b[0;34m\u001b[0m\u001b[0;34m\u001b[0m\u001b[0m\n\u001b[1;32m      2\u001b[0m \u001b[0;34m\u001b[0m\u001b[0m\n\u001b[0;32m----> 3\u001b[0;31m \u001b[0mplt\u001b[0m\u001b[0;34m.\u001b[0m\u001b[0mplot\u001b[0m\u001b[0;34m(\u001b[0m\u001b[0mhistory\u001b[0m\u001b[0;34m.\u001b[0m\u001b[0mhistory\u001b[0m\u001b[0;34m[\u001b[0m\u001b[0;34m'accuracy'\u001b[0m\u001b[0;34m]\u001b[0m\u001b[0;34m)\u001b[0m\u001b[0;34m\u001b[0m\u001b[0;34m\u001b[0m\u001b[0m\n\u001b[0m\u001b[1;32m      4\u001b[0m \u001b[0mplt\u001b[0m\u001b[0;34m.\u001b[0m\u001b[0mplot\u001b[0m\u001b[0;34m(\u001b[0m\u001b[0mhistory\u001b[0m\u001b[0;34m.\u001b[0m\u001b[0mhistory\u001b[0m\u001b[0;34m[\u001b[0m\u001b[0;34m'val_accuracy'\u001b[0m\u001b[0;34m]\u001b[0m\u001b[0;34m)\u001b[0m\u001b[0;34m\u001b[0m\u001b[0;34m\u001b[0m\u001b[0m\n\u001b[1;32m      5\u001b[0m \u001b[0mplt\u001b[0m\u001b[0;34m.\u001b[0m\u001b[0mtitle\u001b[0m\u001b[0;34m(\u001b[0m\u001b[0;34m'model accuracy'\u001b[0m\u001b[0;34m)\u001b[0m\u001b[0;34m\u001b[0m\u001b[0;34m\u001b[0m\u001b[0m\n",
      "\u001b[0;31mNameError\u001b[0m: name 'history' is not defined"
     ]
    }
   ],
   "source": [
    "loss, accuracy  = model.evaluate(conv_test_data, test_labels, verbose=True)\n",
    "\n",
    "plt.plot(history.history['accuracy'])\n",
    "plt.plot(history.history['val_accuracy'])\n",
    "plt.title('model accuracy')\n",
    "plt.ylabel('accuracy')\n",
    "plt.xlabel('epoch')\n",
    "plt.legend(['training', 'validation'], loc='best')\n",
    "\n",
    "plt.show()\n",
    "\n",
    "plt.plot(history.history['loss'])\n",
    "plt.plot(history.history['val_loss'])\n",
    "plt.title('model loss')\n",
    "plt.ylabel('loss')\n",
    "plt.xlabel('epoch')\n",
    "plt.legend(['training', 'validation'], loc='best')\n",
    "\n",
    "plt.show()\n",
    "\n",
    "print(f'Test loss: {loss:.3}')\n",
    "print(f'Test accuracy: {accuracy:.3}')"
   ]
  },
  {
   "cell_type": "code",
   "execution_count": null,
   "metadata": {},
   "outputs": [],
   "source": []
  }
 ],
 "metadata": {
  "kernelspec": {
   "display_name": "Python 3",
   "language": "python",
   "name": "python3"
  },
  "language_info": {
   "codemirror_mode": {
    "name": "ipython",
    "version": 3
   },
   "file_extension": ".py",
   "mimetype": "text/x-python",
   "name": "python",
   "nbconvert_exporter": "python",
   "pygments_lexer": "ipython3",
   "version": "3.7.6"
  }
 },
 "nbformat": 4,
 "nbformat_minor": 4
}
