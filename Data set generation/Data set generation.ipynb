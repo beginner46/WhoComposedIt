{
 "cells": [
  {
   "cell_type": "code",
   "execution_count": 1,
   "metadata": {},
   "outputs": [
    {
     "name": "stderr",
     "output_type": "stream",
     "text": [
      "Using TensorFlow backend.\n"
     ]
    }
   ],
   "source": [
    "import numpy as np\n",
    "import mido\n",
    "from PIL import Image\n",
    "from matplotlib import pyplot as plt\n",
    "import os\n",
    "from sklearn.metrics import confusion_matrix\n",
    "import seaborn as sn\n",
    "from keras.models import Sequential\n",
    "from keras.layers import Dense, MaxPooling2D, Conv2D, Flatten, Dropout\n",
    "from keras.utils import to_categorical\n",
    "import random\n",
    "import pandas as pd\n",
    "import time\n",
    "import pickle\n",
    "import copy"
   ]
  },
  {
   "cell_type": "code",
   "execution_count": null,
   "metadata": {},
   "outputs": [],
   "source": []
  },
  {
   "cell_type": "code",
   "execution_count": 2,
   "metadata": {},
   "outputs": [],
   "source": [
    "def midi_to_pickle(df,output,init,fin,inv_label_map,unavailable,num):#Specific to the Classical Archives HTML format\n",
    "\n",
    "    raw_data = []\n",
    "    \n",
    "    parent_directory = 'E:\\\\Classical_archives\\\\ClassicalArchives-MIDI-Collection\\\\m'\n",
    "\n",
    "    for ind in df.index[init:fin]:\n",
    "        name = df['composer_last_name'][ind]\n",
    "        if name in inv_label_map:\n",
    "            file_path = df['file_path'][ind]\n",
    "            file_path = file_path.split('/')\n",
    "            file_path = '\\\\'+ file_path[0] + '\\\\' + file_path[1]\n",
    "            dirname = parent_directory + file_path\n",
    "            num+=1\n",
    "            temp = []\n",
    "            temp.append(int(inv_label_map[name]))\n",
    "            try:\n",
    "                midfile = mido.MidiFile(dirname)\n",
    "                temp.append(midfile)\n",
    "                raw_data.append(temp)\n",
    "                \n",
    "            except:\n",
    "                unavailable.append(file_path)\n",
    "\n",
    "\n",
    "    picklename = output + '.pickle'#18\n",
    "    with open(picklename, 'wb') as f:\n",
    "        pickle.dump(raw_data, f)    \n",
    "        \n",
    "    time.sleep(3.5)"
   ]
  },
  {
   "cell_type": "code",
   "execution_count": 3,
   "metadata": {},
   "outputs": [],
   "source": [
    "def midi_to_p_roll(mid,Nyquist_rate,sample_duration):\n",
    "\n",
    "    p_roll = np.zeros([128, Nyquist_rate * sample_duration])\n",
    "    track = mido.merge_tracks(mid.tracks)\n",
    "\n",
    "    current_time = 0\n",
    "    current_position = 0\n",
    "    on_notes = np.zeros(128)\n",
    "    tempo = 0\n",
    "    \n",
    "    for msg in track:\n",
    "\n",
    "        if msg.time > 0:\n",
    "            delta = mido.tick2second(msg.time, mid.ticks_per_beat, tempo)\n",
    "        else:\n",
    "            delta = 0\n",
    "        if hasattr(msg, \"note\"):\n",
    "            if msg.type == \"note_on\":\n",
    "                on_notes[msg.note] = msg.velocity\n",
    "            else:\n",
    "                on_notes[msg.note] = 0\n",
    "        last_time = current_time\n",
    "        current_time += delta\n",
    "\n",
    "        if current_time > sample_duration:\n",
    "            break\n",
    "\n",
    "        new_position = np.floor(current_time * Nyquist_rate).astype(int)\n",
    "\n",
    "        if new_position > current_position:\n",
    "            new_position = np.floor(current_time * Nyquist_rate).astype(int)\n",
    "            block = np.tile(on_notes.reshape(\n",
    "                128, 1), new_position - current_position)\n",
    "            p_roll[:, current_position:new_position] = block\n",
    "            current_position = new_position\n",
    "            \n",
    "        if hasattr(msg, \"tempo\"):\n",
    "            tempo = msg.tempo\n",
    "\n",
    "    return p_roll"
   ]
  },
  {
   "cell_type": "markdown",
   "metadata": {},
   "source": [
    "# Converting MIDI files into Piano rolls and outputting into pickle files"
   ]
  },
  {
   "cell_type": "code",
   "execution_count": 13,
   "metadata": {},
   "outputs": [],
   "source": [
    "for i in range(1):\n",
    "    picklename = 'data' + str(i+1) + '.pickle'\n",
    "    with open(picklename, 'rb') as f:\n",
    "        mid = pickle.load(f)\n",
    "    for j in mid:    \n",
    "        j[1] = midi_to_p_roll(j[1], 10, 60)\n",
    "    \n",
    "    p_roll_name = 'p_roll_test' + str(i+1) + '.pickle'\n",
    "    with open(p_roll_name, 'wb') as f:\n",
    "        pickle.dump(mid, f)    \n",
    "    "
   ]
  },
  {
   "cell_type": "code",
   "execution_count": 16,
   "metadata": {},
   "outputs": [],
   "source": [
    "with open(p_roll_name, 'rb') as f:\n",
    "    new = pickle.load(f)"
   ]
  },
  {
   "cell_type": "markdown",
   "metadata": {},
   "source": [
    "# Creating MIDI pickle files using midi_to_pickle"
   ]
  },
  {
   "cell_type": "code",
   "execution_count": 43,
   "metadata": {
    "scrolled": true
   },
   "outputs": [],
   "source": [
    "df = pd.read_excel('E:\\Classical_archives\\ClassicalArchives-MIDI-Collection\\midi_catalog.xls')\n",
    "for ind in df.index:\n",
    "    if df['composer_last_name'][ind] == \"Deleted\":\n",
    "        temp = df['category_chain'][ind]\n",
    "        temp = temp.split(',')[0]\n",
    "        df['composer_last_name'][ind] = temp\n",
    "        \n",
    "dict1 = {}\n",
    "\n",
    "for i in list(df['composer_last_name']):\n",
    "\n",
    "    if i in dict1:\n",
    "        dict1[i]+=1\n",
    "    else:\n",
    "        dict1[i]=1\n",
    "        \n",
    "lst = list(dict1.items())\n",
    "lst = sorted(lst, key=lambda x: x[1], reverse=True)\n",
    "\n",
    "label_map = {}\n",
    "for i, x in enumerate(lst[0:20]):\n",
    "    label_map[i] = x[0]\n",
    "\n",
    "inv_label_map = {v: k for k, v in label_map.items()}\n",
    "\n",
    "parent_directory = 'E:\\\\Classical_archives\\\\ClassicalArchives-MIDI-Collection\\\\m'\n",
    "\n"
   ]
  },
  {
   "cell_type": "code",
   "execution_count": 47,
   "metadata": {},
   "outputs": [],
   "source": [
    "i=0\n",
    "flag = 0\n",
    "init = 0\n",
    "fin = 300\n",
    "num=0\n",
    "unavailable = []"
   ]
  },
  {
   "cell_type": "code",
   "execution_count": 48,
   "metadata": {},
   "outputs": [],
   "source": [
    "while flag==0: \n",
    "    \n",
    "    i+=1\n",
    "\n",
    "    output = 'midi_' + str(i)\n",
    "    midi_to_pickle(df,output,init,fin,inv_label_map,unavailable,num)\n",
    "    \n",
    "    init+=300\n",
    "    fin+=300\n",
    "    \n",
    "    if fin>len(df):\n",
    "        flag =1"
   ]
  },
  {
   "cell_type": "code",
   "execution_count": 52,
   "metadata": {},
   "outputs": [],
   "source": [
    "with open('midi_68.pickle', 'rb') as f:\n",
    "    new = pickle.load(f) "
   ]
  },
  {
   "cell_type": "code",
   "execution_count": null,
   "metadata": {},
   "outputs": [],
   "source": [
    "num = 0\n",
    "for i in range(1,73):\n",
    "    name = 'midi_' + str(i) + '.pickle'\n",
    "    with open(name, 'rb') as f:\n",
    "        new = pickle.load(f)\n",
    "    rolls = copy.deepcopy(new)\n",
    "    for j in rolls:\n",
    "        j[1] = midi_to_p_roll(j[1],10,154)\n",
    "        \n",
    "    roll_name = 'p_roll_154_' + str(i) + '.pickle'\n",
    "        \n",
    "    with open(roll_name, 'wb') as f:\n",
    "        pickle.dump(rolls, f)      \n"
   ]
  },
  {
   "cell_type": "markdown",
   "metadata": {},
   "source": [
    "# Creating data sets for trinary classification between Bach, Beethoven and Mozart"
   ]
  },
  {
   "cell_type": "code",
   "execution_count": 2,
   "metadata": {},
   "outputs": [],
   "source": [
    "\n",
    "df = pd.read_excel('E:\\Classical_archives\\ClassicalArchives-MIDI-Collection\\midi_catalog.xls')\n",
    "for ind in df.index:\n",
    "    if df['composer_last_name'][ind] == \"Deleted\":\n",
    "        temp = df['category_chain'][ind]\n",
    "        temp = temp.split(',')[0]\n",
    "        df['composer_last_name'][ind] = temp\n",
    "        \n",
    "dict1 = {}\n",
    "\n",
    "for i in list(df['composer_last_name']):\n",
    "\n",
    "    if i in dict1:\n",
    "        dict1[i]+=1\n",
    "    else:\n",
    "        dict1[i]=1\n",
    "        \n",
    "lst = list(dict1.items())\n",
    "lst = sorted(lst, key=lambda x: x[1], reverse=True)\n",
    "\n",
    "label_map = {}\n",
    "for i, x in enumerate(lst[0:4]):\n",
    "    label_map[i] = x[0]\n",
    "\n",
    "inv_label_map = {v: k for k, v in label_map.items()}\n",
    "\n",
    "parent_directory = 'E:\\\\Classical_archives\\\\ClassicalArchives-MIDI-Collection\\\\m'"
   ]
  },
  {
   "cell_type": "code",
   "execution_count": 7,
   "metadata": {},
   "outputs": [],
   "source": [
    "i=0\n",
    "flag = 0\n",
    "init = 0\n",
    "fin = 500\n",
    "num=0\n",
    "unavailable = []\n",
    "bach = []\n",
    "mozart = []\n",
    "beethoven = []\n",
    "##Enter more composer lists if you want.##"
   ]
  },
  {
   "cell_type": "markdown",
   "metadata": {},
   "source": [
    "## Creation of MIDI Pickle files"
   ]
  },
  {
   "cell_type": "code",
   "execution_count": 8,
   "metadata": {},
   "outputs": [
    {
     "data": {
      "text/plain": [
       "{0: 'Bach', 1: 'Mozart', 2: 'Haydn', 3: 'Beethoven'}"
      ]
     },
     "execution_count": 8,
     "metadata": {},
     "output_type": "execute_result"
    }
   ],
   "source": [
    "label_map"
   ]
  },
  {
   "cell_type": "code",
   "execution_count": 9,
   "metadata": {},
   "outputs": [],
   "source": [
    "for ind in df.index:\n",
    "    \n",
    "    if df['composer_last_name'][ind] == 'Beethoven' and len(beethoven)<=500:\n",
    "        name = 'Beethoven'\n",
    "        temp = []\n",
    "        file_path = df['file_path'][ind]\n",
    "        file_path = file_path.split('/')\n",
    "        file_path = '\\\\'+ file_path[0] + '\\\\' + file_path[1]\n",
    "        dirname = parent_directory + file_path\n",
    "        temp.append(int(inv_label_map[name]))\n",
    "        \n",
    "        try:\n",
    "            midfile = mido.MidiFile(dirname)\n",
    "            temp.append(midfile)\n",
    "            beethoven.append(temp)\n",
    "            \n",
    "        except:\n",
    "            unavailable.append(file_path)\n",
    "            \n",
    "#     if df['composer_last_name'][ind] == 'Bach' and len(bach)<=500:\n",
    "#         name = 'Bach'\n",
    "#         temp = []\n",
    "#         file_path = df['file_path'][ind]\n",
    "#         file_path = file_path.split('/')\n",
    "#         file_path = '\\\\'+ file_path[0] + '\\\\' + file_path[1]\n",
    "#         dirname = parent_directory + file_path\n",
    "#         temp.append(int(inv_label_map[name]))\n",
    "        \n",
    "#         try:\n",
    "#             midfile = mido.MidiFile(dirname)\n",
    "#             temp.append(midfile)\n",
    "#             bach.append(temp)\n",
    "            \n",
    "#         except:\n",
    "#             unavailable.append(file_path)\n",
    "            \n",
    "#     if df['composer_last_name'][ind] == 'Mozart' and len(mozart)<=500:\n",
    "#         name = 'Mozart'\n",
    "#         temp = []\n",
    "#         file_path = df['file_path'][ind]\n",
    "#         file_path = file_path.split('/')\n",
    "#         file_path = '\\\\'+ file_path[0] + '\\\\' + file_path[1]\n",
    "#         dirname = parent_directory + file_path\n",
    "#         temp.append(int(inv_label_map[name]))\n",
    "        \n",
    "#         try:\n",
    "#             midfile = mido.MidiFile(dirname)\n",
    "#             temp.append(midfile)\n",
    "#             mozart.append(temp)\n",
    "            \n",
    "#         except:\n",
    "#             unavailable.append(file_path)\n",
    "        \n",
    "\n"
   ]
  },
  {
   "cell_type": "code",
   "execution_count": 10,
   "metadata": {},
   "outputs": [
    {
     "data": {
      "text/plain": [
       "501"
      ]
     },
     "execution_count": 10,
     "metadata": {},
     "output_type": "execute_result"
    }
   ],
   "source": [
    "len(beethoven)"
   ]
  },
  {
   "cell_type": "code",
   "execution_count": 11,
   "metadata": {},
   "outputs": [],
   "source": [
    "with open('beethoven.pickle', 'wb') as f:\n",
    "    pickle.dump(beethoven, f)"
   ]
  },
  {
   "cell_type": "code",
   "execution_count": 29,
   "metadata": {},
   "outputs": [],
   "source": [
    "with open('bach.pickle', 'wb') as f:\n",
    "    pickle.dump(bach, f)\n",
    "        \n",
    "with open('mozart.pickle', 'wb') as f:\n",
    "    pickle.dump(mozart, f)"
   ]
  },
  {
   "cell_type": "markdown",
   "metadata": {},
   "source": [
    "## Creation of piano rolls"
   ]
  },
  {
   "cell_type": "code",
   "execution_count": 24,
   "metadata": {},
   "outputs": [],
   "source": [
    "A = ['mozart','bach']\n",
    "\n",
    "for name in A:\n",
    "    picklefile = name + '.pickle'\n",
    "    \n",
    "    with open(picklefile, 'rb') as f:\n",
    "        new = pickle.load(f)\n",
    "    rolls = copy.deepcopy(new)\n",
    "    for j in rolls:\n",
    "        j[1] = midi_to_p_roll(j[1],10,154)\n",
    "        \n",
    "    roll_name = 'p_roll_154_' + name + '.pickle'\n",
    "        \n",
    "    with open(roll_name, 'wb') as f:\n",
    "        pickle.dump(rolls, f)      "
   ]
  },
  {
   "cell_type": "code",
   "execution_count": 25,
   "metadata": {},
   "outputs": [
    {
     "data": {
      "text/plain": [
       "{'Bach': 0, 'Mozart': 1}"
      ]
     },
     "execution_count": 25,
     "metadata": {},
     "output_type": "execute_result"
    }
   ],
   "source": [
    "inv_label_map"
   ]
  },
  {
   "cell_type": "code",
   "execution_count": null,
   "metadata": {},
   "outputs": [],
   "source": []
  }
 ],
 "metadata": {
  "kernelspec": {
   "display_name": "Python 3",
   "language": "python",
   "name": "python3"
  },
  "language_info": {
   "codemirror_mode": {
    "name": "ipython",
    "version": 3
   },
   "file_extension": ".py",
   "mimetype": "text/x-python",
   "name": "python",
   "nbconvert_exporter": "python",
   "pygments_lexer": "ipython3",
   "version": "3.7.0"
  }
 },
 "nbformat": 4,
 "nbformat_minor": 2
}
